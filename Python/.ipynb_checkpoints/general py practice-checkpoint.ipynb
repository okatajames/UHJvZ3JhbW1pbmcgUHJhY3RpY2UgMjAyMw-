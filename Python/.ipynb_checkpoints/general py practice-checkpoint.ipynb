{
 "cells": [
  {
   "cell_type": "code",
   "execution_count": null,
   "id": "8ad7fcf7",
   "metadata": {},
   "outputs": [],
   "source": [
    "print(type(8))"
   ]
  },
  {
   "cell_type": "code",
   "execution_count": null,
   "id": "7e6f3462",
   "metadata": {},
   "outputs": [],
   "source": [
    "print(type(8.0))"
   ]
  },
  {
   "cell_type": "code",
   "execution_count": null,
   "id": "2d204177",
   "metadata": {},
   "outputs": [],
   "source": [
    "x, y = 10, 5\n",
    "print(x,y)\n",
    "x,y = y,x\n",
    "print(x, y)"
   ]
  },
  {
   "cell_type": "code",
   "execution_count": null,
   "id": "bf9b7b19",
   "metadata": {},
   "outputs": [],
   "source": [
    "divisor, divident = 2, 5\n",
    "divident/ divisor\n"
   ]
  },
  {
   "cell_type": "code",
   "execution_count": null,
   "id": "68dee83b",
   "metadata": {},
   "outputs": [],
   "source": [
    "num = 3\n",
    "num *= 2 #Mulfiplication operator like using +=\n",
    "num"
   ]
  },
  {
   "cell_type": "code",
   "execution_count": null,
   "id": "d7c04f3d",
   "metadata": {},
   "outputs": [],
   "source": [
    "is_active = True\n",
    "inactive = not is_active\n",
    "print(inactive)\n",
    "print(is_active)\n",
    "print(not inactive)\n",
    "print(not is_active)\n",
    "\n",
    "\n"
   ]
  },
  {
   "cell_type": "code",
   "execution_count": null,
   "id": "4d6264fd",
   "metadata": {},
   "outputs": [],
   "source": [
    "my_name = {\"first_name\": \"Paul\", \"last_name\": \"Jake\"}\n",
    "print(my_name)\n",
    "for name in my_name:\n",
    "    print(my_name)\n",
    "print(my_name[\"first_name\"])"
   ]
  },
  {
   "cell_type": "code",
   "execution_count": null,
   "id": "f07eb0ba",
   "metadata": {},
   "outputs": [],
   "source": [
    "game = None\n",
    "type(game)"
   ]
  },
  {
   "cell_type": "code",
   "execution_count": null,
   "id": "c46666ac",
   "metadata": {},
   "outputs": [],
   "source": [
    "qoute = \"he said, \\\"hello there!\\\"\"\n",
    "print(qoute)"
   ]
  },
  {
   "cell_type": "code",
   "execution_count": null,
   "id": "2065e655",
   "metadata": {},
   "outputs": [],
   "source": [
    "quote = \"He said \\\"Hello there\\\"\"\n",
    "quote"
   ]
  },
  {
   "cell_type": "code",
   "execution_count": null,
   "id": "793eecf9",
   "metadata": {},
   "outputs": [],
   "source": [
    "name = \"Jake\"\n",
    "print(f\"Your name is {name}\")\n",
    "\n"
   ]
  },
  {
   "cell_type": "code",
   "execution_count": null,
   "id": "59b3f250",
   "metadata": {},
   "outputs": [],
   "source": [
    "intx = 10\n",
    "print(intx)\n",
    "print(type(intx))\n",
    "\n",
    "floatx = float(intx)\n",
    "print(floatx)\n",
    "print(type(floatx))\n",
    "\n",
    "\n"
   ]
  },
  {
   "cell_type": "code",
   "execution_count": null,
   "id": "8fcf161e",
   "metadata": {},
   "outputs": [],
   "source": [
    "#input\n",
    "print(\"How many kilomters did you run today? \")\n",
    "km = float(12.5)\n",
    "miles = km/1.6\n",
    "print(f\"You ran {km} km and is equivalent to {miles} miles\")\n",
    "\n"
   ]
  },
  {
   "cell_type": "code",
   "execution_count": 1,
   "id": "2dc55520",
   "metadata": {},
   "outputs": [
    {
     "name": "stdout",
     "output_type": "stream",
     "text": [
      "first name\n"
     ]
    },
    {
     "name": "stderr",
     "output_type": "stream",
     "text": [
      "<>:2: SyntaxWarning: \"is\" with a literal. Did you mean \"==\"?\n",
      "<>:4: SyntaxWarning: \"is\" with a literal. Did you mean \"==\"?\n",
      "<>:2: SyntaxWarning: \"is\" with a literal. Did you mean \"==\"?\n",
      "<>:4: SyntaxWarning: \"is\" with a literal. Did you mean \"==\"?\n",
      "C:\\Users\\LULZSEC\\AppData\\Local\\Temp\\ipykernel_5692\\1908916194.py:2: SyntaxWarning: \"is\" with a literal. Did you mean \"==\"?\n",
      "  if name is \"Jake\":\n",
      "C:\\Users\\LULZSEC\\AppData\\Local\\Temp\\ipykernel_5692\\1908916194.py:4: SyntaxWarning: \"is\" with a literal. Did you mean \"==\"?\n",
      "  elif name is \"Davis\":\n"
     ]
    }
   ],
   "source": [
    "name = \"Jake\"\n",
    "if name is \"Jake\":\n",
    "    print(\"first name\")\n",
    "elif name is \"Davis\":\n",
    "    print(\"Last name\")\n",
    "else:\n",
    "    print(\"Wrong Name\")"
   ]
  },
  {
   "cell_type": "code",
   "execution_count": 3,
   "id": "3a5ed3d1",
   "metadata": {},
   "outputs": [
    {
     "name": "stdout",
     "output_type": "stream",
     "text": [
      "First Name\n"
     ]
    }
   ],
   "source": [
    "name = \"Jake\"\n",
    "if name == \"Jake\":\n",
    "    print(\"First Name\")\n",
    "elif name ==\"Davis\":\n",
    "    print(\"Last Name\")\n",
    "else:\n",
    "    print(\"Wrong Name\")\n",
    "\n",
    "\n"
   ]
  },
  {
   "cell_type": "code",
   "execution_count": 9,
   "id": "e0c328b6",
   "metadata": {},
   "outputs": [
    {
     "name": "stdout",
     "output_type": "stream",
     "text": [
      "Rating should be between 1 to 5\n"
     ]
    }
   ],
   "source": [
    "rate = 50\n",
    "\n",
    "if rate == 5:\n",
    "    print(\"Excellent\")\n",
    "elif rate ==4:\n",
    "    print(\"Good\")\n",
    "elif rate ==3:\n",
    "    print(\"Very good\")\n",
    "elif rate ==3:\n",
    "    print(\"Not good\")\n",
    "elif rate ==1:\n",
    "    print(\"bad\")\n",
    "else:\n",
    "    print(\"Rating should be between 1 to 5\")\n"
   ]
  },
  {
   "cell_type": "code",
   "execution_count": 11,
   "id": "d1087b0a",
   "metadata": {},
   "outputs": [
    {
     "name": "stdout",
     "output_type": "stream",
     "text": [
      "Get married\n"
     ]
    }
   ],
   "source": [
    "name, age = \"Becky\", 35\n",
    "if name == \"Becky\" and age >= 30:\n",
    "    print(\"Get married\")\n",
    "else:\n",
    "    print(\"Don't get married\")\n",
    "\n",
    "\n"
   ]
  },
  {
   "cell_type": "code",
   "execution_count": 16,
   "id": "940494e1",
   "metadata": {},
   "outputs": [
    {
     "name": "stdout",
     "output_type": "stream",
     "text": [
      "Don't get married\n"
     ]
    }
   ],
   "source": [
    "name, age = \"Sharon\", 20\n",
    "if name == \"Jackie\" or age >=23:\n",
    "    print(\"Get married\")\n",
    "else:\n",
    "    print(\"Don't get married\")\n"
   ]
  },
  {
   "cell_type": "code",
   "execution_count": 35,
   "id": "38e64ff5",
   "metadata": {},
   "outputs": [],
   "source": [
    "player_1 = \"rocks\"\n",
    "player_2 = \"paper\"\n",
    "\n",
    "if player_1 == \"rock\":\n",
    "    if player_2 == \"scissors\":\n",
    "        print(\"PLAYER 1 WINS\")\n",
    "    elif player_2 == 'paper':\n",
    "        print(\"PLAYER 2 WINS\")\n",
    "\n",
    "if player_1 == 'paper':\n",
    "    if player_2 == 'scissors':\n",
    "        print(\"PLAYER 2 WINS\")\n",
    "    elif player_2 == 'rock':\n",
    "        print(\"PLAYER 1 WINS\")\n",
    "\n",
    "if player_1 == 'scissors':\n",
    "    if player_2 == 'rock':\n",
    "        print(\"PLAYER 2 WINS\")\n",
    "    elif player_2 == 'paper':\n",
    "        print(\"PLAYER 1 WINS\")\n",
    "if player_1 == player_2:\n",
    "    print(\"DRAW\")\n",
    "    if player_1 != player_2:\n",
    "        print(\"SOMETHING WENT WRONG, KINDLY REPEAT\")\n"
   ]
  },
  {
   "cell_type": "code",
   "execution_count": 39,
   "id": "4cdcabef",
   "metadata": {},
   "outputs": [
    {
     "name": "stdout",
     "output_type": "stream",
     "text": [
      "PC WON!\n"
     ]
    }
   ],
   "source": [
    "# Advanced rock paper scissor game\n",
    "import random\n",
    "\n",
    "options = ['rock', 'papers', 'scissors']\n",
    "me = options[2]\n",
    "rand = random.randint(0,2)\n",
    "pc = options[rand]\n",
    "\n",
    "player_1 = me\n",
    "player_2 = pc\n",
    "\n",
    "if player_1 == player_2:\n",
    "    print(\"Draw\")\n",
    "elif player_1 == \"rock\":\n",
    "    if player_2 == \"scissors\":\n",
    "        print(\"You WON!\")\n",
    "    elif player_2 == \"papers\":\n",
    "        print(\"PC WON!\")\n",
    "elif player_1 == \"papers\":\n",
    "    if player_2 == \"rock\":\n",
    "        print(\"You WON!\")\n",
    "    elif player_2 == \"scissors\":\n",
    "        print(\"PC WON!\")\n",
    "elif player_1 == \"scissors\":\n",
    "    if player_2 == \"rock\":\n",
    "        print(\"PC WON!\")\n",
    "    elif player_2 == \"papers\":\n",
    "        print(\"You WON\")\n",
    "else:\n",
    "    print(\"Something Wrong!\")\n"
   ]
  },
  {
   "cell_type": "code",
   "execution_count": 7,
   "id": "140eac1d",
   "metadata": {},
   "outputs": [
    {
     "data": {
      "text/plain": [
       "1"
      ]
     },
     "execution_count": 7,
     "metadata": {},
     "output_type": "execute_result"
    }
   ],
   "source": [
    "import random\n",
    "random.randint(0,2)"
   ]
  },
  {
   "cell_type": "code",
   "execution_count": 2,
   "id": "4d0378e4",
   "metadata": {},
   "outputs": [
    {
     "name": "stdout",
     "output_type": "stream",
     "text": [
      "7\n",
      "12\n",
      "17\n",
      "22\n"
     ]
    }
   ],
   "source": [
    "var = 2\n",
    "while var < 20:\n",
    "    var += 5\n",
    "    print(var)\n",
    "\n"
   ]
  },
  {
   "cell_type": "code",
   "execution_count": 4,
   "id": "41dc43d1",
   "metadata": {},
   "outputs": [
    {
     "name": "stdout",
     "output_type": "stream",
     "text": [
      "\n",
      "😁\n",
      "😁😁\n",
      "😁😁😁\n",
      "😁😁😁😁\n",
      "😁😁😁😁😁\n",
      "😁😁😁😁😁😁\n"
     ]
    }
   ],
   "source": [
    "#smile pyramid for py\n",
    "num = 7\n",
    "for times in range(num):\n",
    "    for x in range(times):\n",
    "        print(\"\\U0001f601\",end = \"\")\n",
    "    print()\n",
    "\n"
   ]
  },
  {
   "cell_type": "code",
   "execution_count": 6,
   "id": "bdea1e0c",
   "metadata": {},
   "outputs": [
    {
     "name": "stdout",
     "output_type": "stream",
     "text": [
      "\n",
      "#\n",
      "##\n",
      "###\n",
      "####\n",
      "#####\n",
      "######\n",
      "#######\n",
      "########\n",
      "#########\n"
     ]
    }
   ],
   "source": [
    "p = 10\n",
    "for i in range(p):\n",
    "    for x in range(i):\n",
    "        print(\"#\", end = \"\")\n",
    "    print()\n",
    "\n"
   ]
  },
  {
   "cell_type": "code",
   "execution_count": null,
   "id": "3ee4d3b6",
   "metadata": {},
   "outputs": [],
   "source": []
  },
  {
   "cell_type": "code",
   "execution_count": null,
   "id": "7edcf26e",
   "metadata": {},
   "outputs": [],
   "source": []
  },
  {
   "cell_type": "code",
   "execution_count": null,
   "id": "6bd38a6c",
   "metadata": {},
   "outputs": [],
   "source": []
  },
  {
   "cell_type": "code",
   "execution_count": null,
   "id": "41bc08e5",
   "metadata": {},
   "outputs": [],
   "source": []
  },
  {
   "cell_type": "code",
   "execution_count": null,
   "id": "767df61a",
   "metadata": {},
   "outputs": [],
   "source": []
  },
  {
   "cell_type": "code",
   "execution_count": null,
   "id": "8ce87575",
   "metadata": {},
   "outputs": [],
   "source": []
  },
  {
   "cell_type": "code",
   "execution_count": null,
   "id": "2f5d7345",
   "metadata": {},
   "outputs": [],
   "source": []
  },
  {
   "cell_type": "code",
   "execution_count": null,
   "id": "8b2bc67b",
   "metadata": {},
   "outputs": [],
   "source": []
  },
  {
   "cell_type": "code",
   "execution_count": null,
   "id": "531ed2eb",
   "metadata": {},
   "outputs": [],
   "source": []
  },
  {
   "cell_type": "code",
   "execution_count": null,
   "id": "fe4aee44",
   "metadata": {},
   "outputs": [],
   "source": []
  },
  {
   "cell_type": "code",
   "execution_count": null,
   "id": "18ea452e",
   "metadata": {},
   "outputs": [],
   "source": []
  },
  {
   "cell_type": "code",
   "execution_count": null,
   "id": "78c5148b",
   "metadata": {},
   "outputs": [],
   "source": []
  },
  {
   "cell_type": "code",
   "execution_count": null,
   "id": "67d24633",
   "metadata": {},
   "outputs": [],
   "source": []
  },
  {
   "cell_type": "code",
   "execution_count": null,
   "id": "ac3d0d3f",
   "metadata": {},
   "outputs": [],
   "source": []
  },
  {
   "cell_type": "code",
   "execution_count": null,
   "id": "1a238c47",
   "metadata": {},
   "outputs": [],
   "source": []
  },
  {
   "cell_type": "code",
   "execution_count": null,
   "id": "2078b1d0",
   "metadata": {},
   "outputs": [],
   "source": []
  },
  {
   "cell_type": "code",
   "execution_count": null,
   "id": "38b678f8",
   "metadata": {},
   "outputs": [],
   "source": []
  },
  {
   "cell_type": "code",
   "execution_count": null,
   "id": "e41379a1",
   "metadata": {},
   "outputs": [],
   "source": []
  },
  {
   "cell_type": "code",
   "execution_count": null,
   "id": "c16b641d",
   "metadata": {},
   "outputs": [],
   "source": []
  },
  {
   "cell_type": "code",
   "execution_count": null,
   "id": "577e3474",
   "metadata": {},
   "outputs": [],
   "source": []
  },
  {
   "cell_type": "code",
   "execution_count": null,
   "id": "73501578",
   "metadata": {},
   "outputs": [],
   "source": []
  },
  {
   "cell_type": "code",
   "execution_count": null,
   "id": "0f1e6748",
   "metadata": {},
   "outputs": [],
   "source": []
  },
  {
   "cell_type": "code",
   "execution_count": null,
   "id": "4dbc9d2c",
   "metadata": {},
   "outputs": [],
   "source": []
  },
  {
   "cell_type": "code",
   "execution_count": null,
   "id": "8e3fea7e",
   "metadata": {},
   "outputs": [],
   "source": []
  },
  {
   "cell_type": "code",
   "execution_count": null,
   "id": "229444d3",
   "metadata": {},
   "outputs": [],
   "source": []
  },
  {
   "cell_type": "code",
   "execution_count": null,
   "id": "c1ad865d",
   "metadata": {},
   "outputs": [],
   "source": []
  },
  {
   "cell_type": "code",
   "execution_count": null,
   "id": "889c7da7",
   "metadata": {},
   "outputs": [],
   "source": []
  },
  {
   "cell_type": "code",
   "execution_count": null,
   "id": "523041a9",
   "metadata": {},
   "outputs": [],
   "source": []
  },
  {
   "cell_type": "code",
   "execution_count": null,
   "id": "f26af3bc",
   "metadata": {},
   "outputs": [],
   "source": []
  },
  {
   "cell_type": "code",
   "execution_count": null,
   "id": "cb1f0ab5",
   "metadata": {},
   "outputs": [],
   "source": []
  },
  {
   "cell_type": "code",
   "execution_count": null,
   "id": "82e3020a",
   "metadata": {},
   "outputs": [],
   "source": []
  },
  {
   "cell_type": "code",
   "execution_count": null,
   "id": "59b1b73f",
   "metadata": {},
   "outputs": [],
   "source": []
  },
  {
   "cell_type": "code",
   "execution_count": null,
   "id": "8410adbf",
   "metadata": {},
   "outputs": [],
   "source": []
  },
  {
   "cell_type": "code",
   "execution_count": null,
   "id": "68137c9b",
   "metadata": {},
   "outputs": [],
   "source": []
  },
  {
   "cell_type": "code",
   "execution_count": null,
   "id": "24baadad",
   "metadata": {},
   "outputs": [],
   "source": []
  },
  {
   "cell_type": "code",
   "execution_count": null,
   "id": "b76f48a9",
   "metadata": {},
   "outputs": [],
   "source": []
  },
  {
   "cell_type": "code",
   "execution_count": null,
   "id": "5ae9b6e6",
   "metadata": {},
   "outputs": [],
   "source": []
  },
  {
   "cell_type": "code",
   "execution_count": null,
   "id": "e90410d6",
   "metadata": {},
   "outputs": [],
   "source": []
  },
  {
   "cell_type": "code",
   "execution_count": null,
   "id": "c6bbec2b",
   "metadata": {},
   "outputs": [],
   "source": []
  },
  {
   "cell_type": "code",
   "execution_count": null,
   "id": "2959c351",
   "metadata": {},
   "outputs": [],
   "source": []
  },
  {
   "cell_type": "code",
   "execution_count": null,
   "id": "30c462b5",
   "metadata": {},
   "outputs": [],
   "source": []
  },
  {
   "cell_type": "code",
   "execution_count": null,
   "id": "1fc263f6",
   "metadata": {},
   "outputs": [],
   "source": []
  },
  {
   "cell_type": "code",
   "execution_count": null,
   "id": "52f5f51b",
   "metadata": {},
   "outputs": [],
   "source": []
  },
  {
   "cell_type": "code",
   "execution_count": null,
   "id": "d4bbf4e8",
   "metadata": {},
   "outputs": [],
   "source": []
  },
  {
   "cell_type": "code",
   "execution_count": null,
   "id": "ec58e4df",
   "metadata": {},
   "outputs": [],
   "source": []
  },
  {
   "cell_type": "code",
   "execution_count": null,
   "id": "590a02fb",
   "metadata": {},
   "outputs": [],
   "source": []
  },
  {
   "cell_type": "code",
   "execution_count": null,
   "id": "99821b42",
   "metadata": {},
   "outputs": [],
   "source": []
  },
  {
   "cell_type": "code",
   "execution_count": null,
   "id": "15de1309",
   "metadata": {},
   "outputs": [],
   "source": []
  },
  {
   "cell_type": "code",
   "execution_count": null,
   "id": "fd3aa899",
   "metadata": {},
   "outputs": [],
   "source": []
  },
  {
   "cell_type": "code",
   "execution_count": null,
   "id": "6ce7b32c",
   "metadata": {},
   "outputs": [],
   "source": []
  },
  {
   "cell_type": "code",
   "execution_count": null,
   "id": "1b1e3be1",
   "metadata": {},
   "outputs": [],
   "source": []
  },
  {
   "cell_type": "code",
   "execution_count": null,
   "id": "bbe3ffc9",
   "metadata": {},
   "outputs": [],
   "source": []
  },
  {
   "cell_type": "code",
   "execution_count": null,
   "id": "1e4a73d4",
   "metadata": {},
   "outputs": [],
   "source": []
  },
  {
   "cell_type": "code",
   "execution_count": null,
   "id": "dd58d531",
   "metadata": {},
   "outputs": [],
   "source": []
  },
  {
   "cell_type": "code",
   "execution_count": null,
   "id": "62c1f78e",
   "metadata": {},
   "outputs": [],
   "source": []
  },
  {
   "cell_type": "code",
   "execution_count": null,
   "id": "8098af86",
   "metadata": {},
   "outputs": [],
   "source": []
  },
  {
   "cell_type": "code",
   "execution_count": null,
   "id": "fa138241",
   "metadata": {},
   "outputs": [],
   "source": []
  },
  {
   "cell_type": "code",
   "execution_count": null,
   "id": "6559c098",
   "metadata": {},
   "outputs": [],
   "source": []
  },
  {
   "cell_type": "code",
   "execution_count": null,
   "id": "16a0e5b2",
   "metadata": {},
   "outputs": [],
   "source": []
  },
  {
   "cell_type": "code",
   "execution_count": null,
   "id": "909d6efd",
   "metadata": {},
   "outputs": [],
   "source": []
  },
  {
   "cell_type": "code",
   "execution_count": null,
   "id": "8c0a2cea",
   "metadata": {},
   "outputs": [],
   "source": []
  },
  {
   "cell_type": "code",
   "execution_count": null,
   "id": "c1c36779",
   "metadata": {},
   "outputs": [],
   "source": []
  },
  {
   "cell_type": "code",
   "execution_count": null,
   "id": "1c2b2327",
   "metadata": {},
   "outputs": [],
   "source": []
  },
  {
   "cell_type": "code",
   "execution_count": null,
   "id": "bd5e6539",
   "metadata": {},
   "outputs": [],
   "source": []
  },
  {
   "cell_type": "code",
   "execution_count": null,
   "id": "c101b4d5",
   "metadata": {},
   "outputs": [],
   "source": []
  },
  {
   "cell_type": "code",
   "execution_count": null,
   "id": "2597b949",
   "metadata": {},
   "outputs": [],
   "source": []
  },
  {
   "cell_type": "code",
   "execution_count": null,
   "id": "8938647b",
   "metadata": {},
   "outputs": [],
   "source": []
  },
  {
   "cell_type": "code",
   "execution_count": null,
   "id": "91699508",
   "metadata": {},
   "outputs": [],
   "source": []
  },
  {
   "cell_type": "code",
   "execution_count": null,
   "id": "a86c9c57",
   "metadata": {},
   "outputs": [],
   "source": []
  },
  {
   "cell_type": "code",
   "execution_count": null,
   "id": "1f80b921",
   "metadata": {},
   "outputs": [],
   "source": []
  },
  {
   "cell_type": "code",
   "execution_count": null,
   "id": "ec4cbe63",
   "metadata": {},
   "outputs": [],
   "source": []
  },
  {
   "cell_type": "code",
   "execution_count": null,
   "id": "ed83faf9",
   "metadata": {},
   "outputs": [],
   "source": []
  },
  {
   "cell_type": "code",
   "execution_count": null,
   "id": "cc68aa0f",
   "metadata": {},
   "outputs": [],
   "source": []
  }
 ],
 "metadata": {
  "kernelspec": {
   "display_name": "Python 3 (ipykernel)",
   "language": "python",
   "name": "python3"
  },
  "language_info": {
   "codemirror_mode": {
    "name": "ipython",
    "version": 3
   },
   "file_extension": ".py",
   "mimetype": "text/x-python",
   "name": "python",
   "nbconvert_exporter": "python",
   "pygments_lexer": "ipython3",
   "version": "3.9.13"
  },
  "vscode": {
   "interpreter": {
    "hash": "1423c9e4c6387b3abd8931453e43628d7a295dfe9fc3cd4dfb2664beea219e17"
   }
  }
 },
 "nbformat": 4,
 "nbformat_minor": 5
}
