{
 "cells": [
  {
   "cell_type": "markdown",
   "metadata": {},
   "source": [
    "# Practice Python Exercise 2\n"
   ]
  },
  {
   "cell_type": "markdown",
   "metadata": {},
   "source": [
    "- ####  Ask the user for a number. Depending on whether the number is even or odd, print out an appropriate message to the user. Hint: how does an even / odd number react differently when divided by 2?\n",
    "\n",
    "> Extras:   \n",
    "- If the number is a multiple of 4, print out a different message.\n",
    "- Ask the user for two numbers: one number to check (call it num) and one number to divide by (check). If check divides evenly into num, tell that to the user. If not, print a different appropriate message.\n"
   ]
  },
  {
   "cell_type": "code",
   "execution_count": null,
   "metadata": {
    "collapsed": true
   },
   "outputs": [],
   "source": [
    "#Main Solution without extras\n",
    "\n",
    "def main():\n",
    "    if( (int(input(\"Enter a number\"))) % 2 == 0):\n",
    "        print(\"Even number\")\n",
    "    else:\n",
    "        print(\"Odd number\")\n",
    "main()\n",
    "    "
   ]
  },
  {
   "cell_type": "code",
   "execution_count": 1,
   "metadata": {},
   "outputs": [
    {
     "name": "stdout",
     "output_type": "stream",
     "text": [
      "Enter a number4\n",
      "Even number\n",
      "Even number and multiple of 4\n"
     ]
    }
   ],
   "source": [
    "#Implementing Extras 1\n",
    "\n",
    "def main():\n",
    "    number = get_number()\n",
    "    if(number  % 2 == 0):\n",
    "        print(\"Even number\")\n",
    "        if(number % 4 == 0):\n",
    "           print(\"Even number and multiple of 4\")\n",
    "    else:\n",
    "        print(\"Odd number\")\n",
    "def get_number():\n",
    "       return int(input(\"Enter a number\"))\n",
    "main()"
   ]
  },
  {
   "cell_type": "code",
   "execution_count": 10,
   "metadata": {},
   "outputs": [
    {
     "name": "stdout",
     "output_type": "stream",
     "text": [
      "Enter a number4\n",
      "Even number\n",
      "Even number and multiple of 4\n",
      "Enter a number3\n",
      "Enter a number2\n",
      "3 not evenly devides by 2\n"
     ]
    }
   ],
   "source": [
    "#Implementing Extras 2\n",
    "\n",
    "def main():\n",
    "    number = get_number() \n",
    "    if(number  % 2 == 0):\n",
    "        print(\"Even number\")\n",
    "        if(number % 4 == 0):\n",
    "           print(\"Even number and multiple of 4\")\n",
    "    else:\n",
    "        print(\"Odd number\")\n",
    "    number2,number3= get_number() , get_number()\n",
    "    if (number2 % number3 == 0):\n",
    "        print(\"{} evenly devides {}\".format(number2,number3))\n",
    "    else:\n",
    "        print(\"{} not evenly devides by {}\".format(number2,number3))\n",
    "def get_number():\n",
    "       return int(input(\"Enter a number\"))\n",
    "main()"
   ]
  },
  {
   "cell_type": "code",
   "execution_count": null,
   "metadata": {
    "collapsed": true
   },
   "outputs": [],
   "source": []
  }
 ],
 "metadata": {
  "kernelspec": {
   "display_name": "Python 3",
   "language": "python",
   "name": "python3"
  },
  "language_info": {
   "codemirror_mode": {
    "name": "ipython",
    "version": 3
   },
   "file_extension": ".py",
   "mimetype": "text/x-python",
   "name": "python",
   "nbconvert_exporter": "python",
   "pygments_lexer": "ipython3",
   "version": "3.6.1"
  }
 },
 "nbformat": 4,
 "nbformat_minor": 2
}
