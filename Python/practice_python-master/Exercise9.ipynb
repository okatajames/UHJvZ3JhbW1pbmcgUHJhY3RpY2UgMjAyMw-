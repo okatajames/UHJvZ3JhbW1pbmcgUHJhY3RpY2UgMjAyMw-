{
 "cells": [
  {
   "cell_type": "markdown",
   "metadata": {},
   "source": [
    "# Practice Python Exercise 9\n"
   ]
  },
  {
   "cell_type": "markdown",
   "metadata": {},
   "source": [
    "- ####  Generate a random number between 1 and 9 (including 1 and 9). Ask the user to guess the number, then tell them whether they guessed too low, too high, or exactly right. (Hint: remember to use the user input lessons from the very first exercise)\n",
    "\n",
    "> Extras:   \n",
    "- Keep the game going until the user types “exit”\n",
    "- Keep track of how many guesses the user has taken, and when the game ends, print this out.\n",
    "\n",
    "\n",
    "- Link from practice python : http://www.practicepython.org/exercise/2014/04/02/09-guessing-game-one.html"
   ]
  },
  {
   "cell_type": "code",
   "execution_count": null,
   "metadata": {
    "collapsed": true
   },
   "outputs": [],
   "source": [
    "#Main method blueprint\n",
    "import random\n",
    "def main():\n",
    "    random_num = random.randint(1,9)\n",
    "    try:\n",
    "        while True:\n",
    "            \n",
    "            user_input = int(input(\"Enter a number (1 to 9)\"))\n",
    "            dif = random_num - user_input\n",
    "            \n",
    "            if user_input in range(0,10):\n",
    "                if dif > 0:\n",
    "                    print(\"too low\")\n",
    "                    if wantToContinue() == \"Y\": continue \n",
    "                    else: break\n",
    "                    \n",
    "                    \n",
    "                elif dif < 0:\n",
    "                    print(\"too high\")\n",
    "                    if wantToContinue() == \"Y\": continue \n",
    "                    else: break\n",
    "                    \n",
    "                else:\n",
    "                    print(\"Correct\")\n",
    "                    if wantToContinue() == \"Y\": continue \n",
    "                    else: break\n",
    "                    \n",
    "            \n",
    "        \n",
    "    except:\n",
    "        print(\"game over\")\n",
    "def wantToContinue():\n",
    "    return input(\"Do you wana continue ?:\")\n",
    "    \n",
    "if __name__ == '__main__':\n",
    "    main()\n",
    "    \n",
    "    "
   ]
  }
 ],
 "metadata": {
  "kernelspec": {
   "display_name": "Python 3",
   "language": "python",
   "name": "python3"
  },
  "language_info": {
   "codemirror_mode": {
    "name": "ipython",
    "version": 3
   },
   "file_extension": ".py",
   "mimetype": "text/x-python",
   "name": "python",
   "nbconvert_exporter": "python",
   "pygments_lexer": "ipython3",
   "version": "3.6.1"
  }
 },
 "nbformat": 4,
 "nbformat_minor": 2
}
