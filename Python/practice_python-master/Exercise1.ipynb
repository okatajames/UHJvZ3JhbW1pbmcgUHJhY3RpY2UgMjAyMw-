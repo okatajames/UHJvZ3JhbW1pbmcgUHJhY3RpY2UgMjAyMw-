{
 "cells": [
  {
   "cell_type": "markdown",
   "metadata": {},
   "source": [
    "# Practice Python Exercise 1\n"
   ]
  },
  {
   "cell_type": "markdown",
   "metadata": {},
   "source": [
    "- ####  Create a program that asks the user to enter their name and their age. Print out a message addressed to them that tells them the year that they will turn 100 years old.  \n",
    "\n",
    "> Extras:   \n",
    "- Add on to the previous program by asking the user for another number and printing out that many copies of the previous message. (Hint: order of operations exists in Python)  \n",
    "- Print out that many copies of the previous message on separate lines. (Hint: the string \"\\n is the same as pressing the ENTER button)\n"
   ]
  },
  {
   "cell_type": "code",
   "execution_count": 1,
   "metadata": {
    "collapsed": false
   },
   "outputs": [
    {
     "name": "stdout",
     "output_type": "stream",
     "text": [
      "Enter nameVipin\n",
      "Enter age27\n",
      "Enter a number2\n",
      "You will turn 100 in 2090\n",
      "You will turn 100 in 2090\n"
     ]
    }
   ],
   "source": [
    "#Version 1\n",
    "def main():\n",
    "    name, age = input(\"Enter name\") , int( input(\"Enter age\"))\n",
    "    for i in range( int(input(\"Enter a number\"))):\n",
    "         print(\"You will turn 100 in {}\".format(2017-age+100))\n",
    "main()"
   ]
  },
  {
   "cell_type": "markdown",
   "metadata": {},
   "source": [
    "> Using `datetime` module to find current date and extracting year from the current date"
   ]
  },
  {
   "cell_type": "code",
   "execution_count": null,
   "metadata": {
    "collapsed": true
   },
   "outputs": [],
   "source": [
    "from datetime import date \n",
    "today = str(date.today()).split(\"-\")\n",
    "print(type(today))\n",
    "print(today[0])"
   ]
  },
  {
   "cell_type": "markdown",
   "metadata": {},
   "source": [
    "> Use the above and modify our program"
   ]
  },
  {
   "cell_type": "code",
   "execution_count": null,
   "metadata": {
    "collapsed": true
   },
   "outputs": [],
   "source": [
    "#Version 2\n",
    "\n",
    "from datetime import date \n",
    "def main():\n",
    "    name, age = input(\"Enter name\") , int( input(\"Enter age\"))\n",
    "    thisYear = find_years()\n",
    "    for i in range( int(input(\"Enter a number\"))):\n",
    "         print(\"You will turn 100 in {}\".format(thisYear-age+100))\n",
    "    \n",
    "def find_years():\n",
    "    today = str(date.today()).split('-')\n",
    "    return int(today[0])\n",
    "main()"
   ]
  },
  {
   "cell_type": "code",
   "execution_count": null,
   "metadata": {
    "collapsed": true
   },
   "outputs": [],
   "source": [
    "from datetime import date\n",
    "\n",
    "def main():\n",
    "    name, age = get_name() , get_age()\n",
    "    thisYear = find_years()\n",
    "    print(\"Hi {} ! You will turn 100 in {} \\n\".format(name,thisYear-age+100))\n",
    "    for i in range( int(input(\"Please enter how many times the above message should show : \\n\"))):\n",
    "         print(\"Hi {} ! You will turn 100 in {}\".format(name,thisYear-age+100))\n",
    "\n",
    "def get_name():\n",
    "    return input(\"Please enter your name : \\n\")\n",
    "\n",
    "def get_age():\n",
    "    return int(input(\"Please enter your age : \\n\"))\n",
    "\n",
    "def find_years():\n",
    "    today = str(date.today()).split('-')\n",
    "    return int(today[0])\n",
    "\n",
    "if __name__ == '__main__':\n",
    "    main()"
   ]
  },
  {
   "cell_type": "code",
   "execution_count": null,
   "metadata": {
    "collapsed": true
   },
   "outputs": [],
   "source": [
    "from datetime import date\n",
    "\n",
    "def main():\n",
    "    \n",
    "    name = get_name()\n",
    "    age = get_age()\n",
    "    \n",
    "    thisYear = find_years()\n",
    "    turns100Year = calculate_year(age,thisYear)\n",
    "    show_msg(name,turns100Year)\n",
    "    \n",
    "    \n",
    "    for i in range( int(input(\"Please enter how many times the above message should show : \\n\"))):\n",
    "         print(\"Hi {} ! You will turn 100 in {}\".format(name,thisYear-age+100))\n",
    "\n",
    "def get_name():\n",
    "    return input(\"Please enter your name : \\n\")\n",
    "\n",
    "def get_age():\n",
    "    return int(input(\"Please enter your age : \\n\"))\n",
    "\n",
    "def find_years():\n",
    "    today = str(date.today()).split('-')\n",
    "    return int(today[0])\n",
    "\n",
    "def show_msg(name,turns100Year):\n",
    "    print(\"Hi {} ! You will turn 100 in {} \\n\".format(name,turns100Year))\n",
    "    \n",
    "def calculate_year(age,thisYear):\n",
    "    assert age >= 0 , \"Age is not allowed to be less than zero\"\n",
    "    return thisYear-age+100\n",
    "\n",
    "if __name__ == '__main__':\n",
    "    main()"
   ]
  },
  {
   "cell_type": "code",
   "execution_count": null,
   "metadata": {
    "collapsed": true
   },
   "outputs": [],
   "source": []
  },
  {
   "cell_type": "code",
   "execution_count": null,
   "metadata": {
    "collapsed": true
   },
   "outputs": [],
   "source": []
  }
 ],
 "metadata": {
  "kernelspec": {
   "display_name": "Python 3",
   "language": "python",
   "name": "python3"
  },
  "language_info": {
   "codemirror_mode": {
    "name": "ipython",
    "version": 3
   },
   "file_extension": ".py",
   "mimetype": "text/x-python",
   "name": "python",
   "nbconvert_exporter": "python",
   "pygments_lexer": "ipython3",
   "version": "3.6.0"
  }
 },
 "nbformat": 4,
 "nbformat_minor": 2
}
