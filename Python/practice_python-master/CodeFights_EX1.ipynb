{
 "cells": [
  {
   "cell_type": "markdown",
   "metadata": {},
   "source": [
    "# Practice Python Exercise 1 From CodeFights\n"
   ]
  },
  {
   "cell_type": "markdown",
   "metadata": {},
   "source": [
    "- ####  Given a year, return the century it is in. The first century spans from the year 1 up to and including the year 100, the second - from the year 101 up to and including the year 200, etc.  \n",
    "\n",
    "> #Example\n",
    "  - For year = 1905, the output should be\n",
    "    centuryFromYear(year) = 20;\n",
    "  - For year = 1700, the output should be\n",
    "    centuryFromYear(year) = 17.\n",
    "    \n",
    "> Input/Output\n",
    "- [time limit] 4000ms (py3)\n",
    "- [input] integer year\n",
    "   A positive integer, designating the year.\n",
    "- Guaranteed constraints:\n",
    "   1 ≤ year ≤ 2005.\n",
    "- [output] integer\n",
    "   The number of the century the year is in.\n",
    "\n",
    "\n",
    "- Link: https://codefights.com/arcade/intro/level-1"
   ]
  },
  {
   "cell_type": "code",
   "execution_count": 6,
   "metadata": {},
   "outputs": [
    {
     "name": "stdout",
     "output_type": "stream",
     "text": [
      "20\n"
     ]
    }
   ],
   "source": [
    "#Main method blueprint\n",
    "def centuryFromYear(year):\n",
    "    try:\n",
    "        return int(year) // 100 if int(year) % 100 == 0 else (int(year) // 100)+1 \n",
    "    except Exception as e:\n",
    "        print(\"Wrong Input : {}\".format(e))\n",
    "        \n",
    "def main():\n",
    "    print(centuryFromYear(1905))\n",
    "if __name__ == '__main__':\n",
    "    main()\n",
    "    \n",
    "    "
   ]
  }
 ],
 "metadata": {
  "kernelspec": {
   "display_name": "Python 3",
   "language": "python",
   "name": "python3"
  },
  "language_info": {
   "codemirror_mode": {
    "name": "ipython",
    "version": 3
   },
   "file_extension": ".py",
   "mimetype": "text/x-python",
   "name": "python",
   "nbconvert_exporter": "python",
   "pygments_lexer": "ipython3",
   "version": "3.6.1"
  }
 },
 "nbformat": 4,
 "nbformat_minor": 2
}
