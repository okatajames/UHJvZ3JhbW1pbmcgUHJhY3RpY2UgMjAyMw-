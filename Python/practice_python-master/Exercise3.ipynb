{
 "cells": [
  {
   "cell_type": "markdown",
   "metadata": {},
   "source": [
    "# Practice Python Exercise 3\n"
   ]
  },
  {
   "cell_type": "markdown",
   "metadata": {},
   "source": [
    "- ####  Take a list, say for example this one:\n",
    "\n",
    "  #### a = [1, 1, 2, 3, 5, 8, 13, 21, 34, 55, 89] and write a program that prints out all the elements of the list that are less than 5.\n",
    "\n",
    "> Extras:   \n",
    "- Instead of printing the elements one by one, make a new list that has all the elements less than 5 from this list in it and print out this new list.\n",
    "- Write this in one line of Python.\n",
    "- Ask the user for a number and return a list that contains only elements from the original list a that are smaller than that number given by the user.\n"
   ]
  },
  {
   "cell_type": "code",
   "execution_count": 8,
   "metadata": {},
   "outputs": [
    {
     "name": "stdout",
     "output_type": "stream",
     "text": [
      "1\n",
      "1\n",
      "2\n",
      "3\n"
     ]
    }
   ],
   "source": [
    "#Main Problem\n",
    "def main():\n",
    "    my_list = [1, 1, 2, 3, 5, 8, 13, 21, 34, 55, 89]\n",
    "    \n",
    "    for i in my_list:\n",
    "        if i < 5:\n",
    "           print(i)\n",
    "if __name__ == '__main__': main()"
   ]
  },
  {
   "cell_type": "code",
   "execution_count": 9,
   "metadata": {},
   "outputs": [
    {
     "name": "stdout",
     "output_type": "stream",
     "text": [
      "[1, 1, 2, 3]\n"
     ]
    }
   ],
   "source": [
    "#Extras 1 Problem\n",
    "def main():\n",
    "    my_list = [1, 1, 2, 3, 5, 8, 13, 21, 34, 55, 89]\n",
    "    lessthan_five = []\n",
    "    for i in my_list:\n",
    "        if i < 5:\n",
    "           lessthan_five.append(i)\n",
    "    print(lessthan_five)\n",
    "    \n",
    "if __name__ == '__main__': main()\n",
    "    "
   ]
  },
  {
   "cell_type": "code",
   "execution_count": 14,
   "metadata": {},
   "outputs": [
    {
     "name": "stdout",
     "output_type": "stream",
     "text": [
      "Extras 1 : [1, 1, 2, 3]\n",
      "Extras 2 Single line : [1, 1, 2, 3]\n"
     ]
    }
   ],
   "source": [
    "#Extras 2 Problem\n",
    "def main():\n",
    "    \n",
    "    my_list = [1, 1, 2, 3, 5, 8, 13, 21, 34, 55, 89]\n",
    "    lessthan_five = []\n",
    "    \n",
    "    for i in my_list:\n",
    "        \n",
    "        if i < 5:\n",
    "           lessthan_five.append(i)\n",
    "        \n",
    "    print(\"Extras 1 :\",lessthan_five)\n",
    "    \n",
    "    lessthan_five=[i for i in my_list if i <5]\n",
    "    \n",
    "    print(\"Extras 2 Single line :\",lessthan_five)\n",
    "    \n",
    "if __name__ == '__main__': main()\n",
    "    \n"
   ]
  },
  {
   "cell_type": "code",
   "execution_count": 22,
   "metadata": {},
   "outputs": [
    {
     "name": "stdout",
     "output_type": "stream",
     "text": [
      "Extras 1 : [1, 1, 2, 3]\n",
      "Extras 2 Single line : [1, 1, 2, 3]\n",
      "Enter a number0\n",
      "List contains numbers less than 0 : []\n"
     ]
    }
   ],
   "source": [
    "#Extras 3 Problem\n",
    "def main():\n",
    "    \n",
    "    my_list = [1, 1, 2, 3, 5, 8, 13, 21, 34, 55, 89]\n",
    "    lessthan_five = []\n",
    "    \n",
    "    for i in my_list:\n",
    "        \n",
    "        if i < 5:\n",
    "           lessthan_five.append(i)\n",
    "        \n",
    "    print(\"Extras 1 :\",lessthan_five)\n",
    "    #Extras 2-Starts\n",
    "    lessthan_five=[i for i in my_list if i <5]\n",
    "    print(\"Extras 2 Single line :\",lessthan_five)\n",
    "    \n",
    "    #Extras 3-Starts\n",
    "    num = int(input(\"Enter a number\"))\n",
    "    lessthan_num=[i for i in my_list if i < num]\n",
    "    print(\"List contains numbers less than {} : {}\".format(num,lessthan_num))\n",
    "    \n",
    "    \n",
    "if __name__ == '__main__': main()\n",
    "    "
   ]
  },
  {
   "cell_type": "code",
   "execution_count": null,
   "metadata": {
    "collapsed": true
   },
   "outputs": [],
   "source": []
  }
 ],
 "metadata": {
  "kernelspec": {
   "display_name": "Python 3",
   "language": "python",
   "name": "python3"
  },
  "language_info": {
   "codemirror_mode": {
    "name": "ipython",
    "version": 3
   },
   "file_extension": ".py",
   "mimetype": "text/x-python",
   "name": "python",
   "nbconvert_exporter": "python",
   "pygments_lexer": "ipython3",
   "version": "3.6.1"
  }
 },
 "nbformat": 4,
 "nbformat_minor": 2
}
